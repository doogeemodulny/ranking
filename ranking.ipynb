{
 "cells": [
  {
   "cell_type": "code",
   "execution_count": 49,
   "id": "2972e8a7-cdae-441c-b7e8-c59270c642f0",
   "metadata": {},
   "outputs": [],
   "source": [
    "import pandas as pd\n",
    "import numpy as np\n",
    "\n",
    "from sklearn.metrics import ndcg_score\n",
    "from sklearn.linear_model import LinearRegression\n",
    "from sklearn.ensemble import RandomForestRegressor\n",
    "\n",
    "from sklearn.model_selection import train_test_split\n",
    "\n",
    "import xgboost as xgb"
   ]
  },
  {
   "cell_type": "markdown",
   "id": "8f2a01c3-121b-4fd3-a1b4-7f2a53c47b43",
   "metadata": {},
   "source": [
    "### This function does some preprocessing on our data: \n",
    "    1) Replacing feature: feature_value with feature_value\n",
    "    2) Deleting useless column 138"
   ]
  },
  {
   "cell_type": "code",
   "execution_count": 50,
   "id": "26e40bd9-6ae1-40cb-b584-8685b6c9131b",
   "metadata": {},
   "outputs": [],
   "source": [
    "def preprocess_data(df):\n",
    "    df[1] = df[1].apply(lambda x: x[4:])\n",
    "    for col in range(2, 138):\n",
    "        df.iloc[:, col] = df.iloc[:, col].apply(lambda x: x.split(':')[1])\n",
    "    df = df.drop(columns=[138])\n",
    "    \n",
    "    df.columns = ['feat_' + str(i-1) for i in df.columns]\n",
    "    df.rename(columns={'feat_-1': 'y', 'feat_0': 'qid'}, inplace=True)\n",
    "    \n",
    "    return df"
   ]
  },
  {
   "cell_type": "markdown",
   "id": "e4ce67a9-988b-46f6-9945-bf2c161cfa32",
   "metadata": {},
   "source": [
    "### Transforming whole DataFrame (df) into features dataframe (X) and target column (y)"
   ]
  },
  {
   "cell_type": "code",
   "execution_count": 51,
   "id": "f7ea6a3b-4831-4093-a5bf-e2305c45037b",
   "metadata": {},
   "outputs": [],
   "source": [
    "def get_features_and_labels(df):\n",
    "    X = df.drop(columns=['y'])\n",
    "    y = df['y']\n",
    "    \n",
    "    return X, y"
   ]
  },
  {
   "cell_type": "markdown",
   "id": "9fbca974-02f7-4085-a097-d72a958fa5c7",
   "metadata": {},
   "source": [
    "## What is DCG (Discounted Cumulative Gain) metric:\n",
    "### $$ DCG = \\sum_{i=1}^{n} G_q(d_q^{i}) * D(i)$$\n",
    "#### where,\n",
    "### $ G_q(d) $ - document benefit function  |  $G_q(d) = 2^{y(q, d) - 1}$\n",
    "### $ D(i) $ - position discount function      |  $D(i) = \\frac{1}{\\log_2(i + 1)}$\n",
    "### $ q $ - index of the query\n",
    "### $ i $ - index of the document"
   ]
  },
  {
   "cell_type": "markdown",
   "id": "f3f39186-fc53-49a9-b8d0-ac7b815bcc2f",
   "metadata": {},
   "source": [
    "### However, a low $DCG$ metric value does not always mean that ranking has worked poorly. It could be that there are simply no relevant documents for the query, or very few of them. To get rid of this problem, the $DCG$ value is normalized by this metric for perfect ranking, when documents are sorted by true relevance values:"
   ]
  },
  {
   "cell_type": "markdown",
   "id": "66e3977a-fd68-4433-934d-937763ed2aa6",
   "metadata": {},
   "source": [
    "## $nDCG(q) = \\frac{DCG(q)}{max DCG(q)}$"
   ]
  },
  {
   "cell_type": "markdown",
   "id": "d8c353de-67e7-441d-b575-e2e79145eeab",
   "metadata": {},
   "source": [
    "### To obtain a metric for a set of queries, consider the average value of $nDCG$"
   ]
  },
  {
   "cell_type": "markdown",
   "id": "a4e84d97-99e0-45aa-b6ed-579a5af360a0",
   "metadata": {},
   "source": [
    "### Function for model evaluation by NDCG metric"
   ]
  },
  {
   "cell_type": "code",
   "execution_count": 52,
   "id": "f0a16626-308d-4bf2-986d-3d2b3f0b5da3",
   "metadata": {},
   "outputs": [],
   "source": [
    "def evaluate_model(model, x_test, y_test, model_type):\n",
    "        \n",
    "    y_pred = model.predict(x_test)\n",
    "\n",
    "    ndcg_scores = {\n",
    "        \"NDCG Score\": ndcg_score([y_test], [y_pred]),\n",
    "        \"NDCG@5 Score\": ndcg_score([y_test], [y_pred], k=5),\n",
    "        \"NDCG@10 Score\": ndcg_score([y_test], [y_pred], k=10),\n",
    "        \"NDCG@20 Score\": ndcg_score([y_test], [y_pred], k=20),\n",
    "    }\n",
    "\n",
    "    print(\"-\" * 50)\n",
    "    for score_name, score_value in ndcg_scores.items():\n",
    "        print(f\"{model_type} {score_name}: {score_value:.4f}\")"
   ]
  },
  {
   "cell_type": "code",
   "execution_count": 53,
   "id": "57455817-9812-4ce9-83f4-3e7c598623ba",
   "metadata": {},
   "outputs": [],
   "source": [
    "def data_loader(train_path, valid_path, test_path):\n",
    "    train_df = pd.read_csv(train_path, header=None, sep=\" \")\n",
    "    valid_df = pd.read_csv(valid_path, header=None, sep=\" \")\n",
    "    test_df = pd.read_csv(test_path, header=None, sep=\" \")\n",
    "\n",
    "    return train_df, valid_df, test_df\n",
    "\n",
    "train_df, valid_df, test_df = data_loader(\"data/Fold1/train.txt\", \n",
    "                                        \"data/Fold1/vali.txt\",\n",
    "                                        \"data/Fold1//test.txt\")"
   ]
  },
  {
   "cell_type": "code",
   "execution_count": 54,
   "id": "a8d9b031-03ce-4be3-8cd8-34d1515bf033",
   "metadata": {},
   "outputs": [
    {
     "data": {
      "text/html": [
       "<div>\n",
       "<style scoped>\n",
       "    .dataframe tbody tr th:only-of-type {\n",
       "        vertical-align: middle;\n",
       "    }\n",
       "\n",
       "    .dataframe tbody tr th {\n",
       "        vertical-align: top;\n",
       "    }\n",
       "\n",
       "    .dataframe thead th {\n",
       "        text-align: right;\n",
       "    }\n",
       "</style>\n",
       "<table border=\"1\" class=\"dataframe\">\n",
       "  <thead>\n",
       "    <tr style=\"text-align: right;\">\n",
       "      <th></th>\n",
       "      <th>0</th>\n",
       "      <th>1</th>\n",
       "      <th>2</th>\n",
       "      <th>3</th>\n",
       "      <th>4</th>\n",
       "      <th>5</th>\n",
       "      <th>6</th>\n",
       "      <th>7</th>\n",
       "      <th>8</th>\n",
       "      <th>9</th>\n",
       "      <th>...</th>\n",
       "      <th>129</th>\n",
       "      <th>130</th>\n",
       "      <th>131</th>\n",
       "      <th>132</th>\n",
       "      <th>133</th>\n",
       "      <th>134</th>\n",
       "      <th>135</th>\n",
       "      <th>136</th>\n",
       "      <th>137</th>\n",
       "      <th>138</th>\n",
       "    </tr>\n",
       "  </thead>\n",
       "  <tbody>\n",
       "    <tr>\n",
       "      <th>0</th>\n",
       "      <td>2</td>\n",
       "      <td>qid:1</td>\n",
       "      <td>1:3</td>\n",
       "      <td>2:3</td>\n",
       "      <td>3:0</td>\n",
       "      <td>4:0</td>\n",
       "      <td>5:3</td>\n",
       "      <td>6:1</td>\n",
       "      <td>7:1</td>\n",
       "      <td>8:0</td>\n",
       "      <td>...</td>\n",
       "      <td>128:11089534</td>\n",
       "      <td>129:2</td>\n",
       "      <td>130:116</td>\n",
       "      <td>131:64034</td>\n",
       "      <td>132:13</td>\n",
       "      <td>133:3</td>\n",
       "      <td>134:0</td>\n",
       "      <td>135:0</td>\n",
       "      <td>136:0</td>\n",
       "      <td>NaN</td>\n",
       "    </tr>\n",
       "    <tr>\n",
       "      <th>1</th>\n",
       "      <td>2</td>\n",
       "      <td>qid:1</td>\n",
       "      <td>1:3</td>\n",
       "      <td>2:0</td>\n",
       "      <td>3:3</td>\n",
       "      <td>4:0</td>\n",
       "      <td>5:3</td>\n",
       "      <td>6:1</td>\n",
       "      <td>7:0</td>\n",
       "      <td>8:1</td>\n",
       "      <td>...</td>\n",
       "      <td>128:11089534</td>\n",
       "      <td>129:2</td>\n",
       "      <td>130:124</td>\n",
       "      <td>131:64034</td>\n",
       "      <td>132:1</td>\n",
       "      <td>133:2</td>\n",
       "      <td>134:0</td>\n",
       "      <td>135:0</td>\n",
       "      <td>136:0</td>\n",
       "      <td>NaN</td>\n",
       "    </tr>\n",
       "    <tr>\n",
       "      <th>2</th>\n",
       "      <td>0</td>\n",
       "      <td>qid:1</td>\n",
       "      <td>1:3</td>\n",
       "      <td>2:0</td>\n",
       "      <td>3:2</td>\n",
       "      <td>4:0</td>\n",
       "      <td>5:3</td>\n",
       "      <td>6:1</td>\n",
       "      <td>7:0</td>\n",
       "      <td>8:0.666667</td>\n",
       "      <td>...</td>\n",
       "      <td>128:3</td>\n",
       "      <td>129:1</td>\n",
       "      <td>130:124</td>\n",
       "      <td>131:3344</td>\n",
       "      <td>132:14</td>\n",
       "      <td>133:67</td>\n",
       "      <td>134:0</td>\n",
       "      <td>135:0</td>\n",
       "      <td>136:0</td>\n",
       "      <td>NaN</td>\n",
       "    </tr>\n",
       "    <tr>\n",
       "      <th>3</th>\n",
       "      <td>2</td>\n",
       "      <td>qid:1</td>\n",
       "      <td>1:3</td>\n",
       "      <td>2:0</td>\n",
       "      <td>3:3</td>\n",
       "      <td>4:0</td>\n",
       "      <td>5:3</td>\n",
       "      <td>6:1</td>\n",
       "      <td>7:0</td>\n",
       "      <td>8:1</td>\n",
       "      <td>...</td>\n",
       "      <td>128:11089534</td>\n",
       "      <td>129:13</td>\n",
       "      <td>130:123</td>\n",
       "      <td>131:63933</td>\n",
       "      <td>132:1</td>\n",
       "      <td>133:3</td>\n",
       "      <td>134:0</td>\n",
       "      <td>135:0</td>\n",
       "      <td>136:0</td>\n",
       "      <td>NaN</td>\n",
       "    </tr>\n",
       "    <tr>\n",
       "      <th>4</th>\n",
       "      <td>1</td>\n",
       "      <td>qid:1</td>\n",
       "      <td>1:3</td>\n",
       "      <td>2:0</td>\n",
       "      <td>3:3</td>\n",
       "      <td>4:0</td>\n",
       "      <td>5:3</td>\n",
       "      <td>6:1</td>\n",
       "      <td>7:0</td>\n",
       "      <td>8:1</td>\n",
       "      <td>...</td>\n",
       "      <td>128:5</td>\n",
       "      <td>129:7</td>\n",
       "      <td>130:256</td>\n",
       "      <td>131:49697</td>\n",
       "      <td>132:1</td>\n",
       "      <td>133:13</td>\n",
       "      <td>134:0</td>\n",
       "      <td>135:0</td>\n",
       "      <td>136:0</td>\n",
       "      <td>NaN</td>\n",
       "    </tr>\n",
       "  </tbody>\n",
       "</table>\n",
       "<p>5 rows × 139 columns</p>\n",
       "</div>"
      ],
      "text/plain": [
       "   0      1    2    3    4    5    6    7    8           9    ...  \\\n",
       "0    2  qid:1  1:3  2:3  3:0  4:0  5:3  6:1  7:1         8:0  ...   \n",
       "1    2  qid:1  1:3  2:0  3:3  4:0  5:3  6:1  7:0         8:1  ...   \n",
       "2    0  qid:1  1:3  2:0  3:2  4:0  5:3  6:1  7:0  8:0.666667  ...   \n",
       "3    2  qid:1  1:3  2:0  3:3  4:0  5:3  6:1  7:0         8:1  ...   \n",
       "4    1  qid:1  1:3  2:0  3:3  4:0  5:3  6:1  7:0         8:1  ...   \n",
       "\n",
       "            129     130      131        132     133     134    135    136  \\\n",
       "0  128:11089534   129:2  130:116  131:64034  132:13   133:3  134:0  135:0   \n",
       "1  128:11089534   129:2  130:124  131:64034   132:1   133:2  134:0  135:0   \n",
       "2         128:3   129:1  130:124   131:3344  132:14  133:67  134:0  135:0   \n",
       "3  128:11089534  129:13  130:123  131:63933   132:1   133:3  134:0  135:0   \n",
       "4         128:5   129:7  130:256  131:49697   132:1  133:13  134:0  135:0   \n",
       "\n",
       "     137 138  \n",
       "0  136:0 NaN  \n",
       "1  136:0 NaN  \n",
       "2  136:0 NaN  \n",
       "3  136:0 NaN  \n",
       "4  136:0 NaN  \n",
       "\n",
       "[5 rows x 139 columns]"
      ]
     },
     "execution_count": 54,
     "metadata": {},
     "output_type": "execute_result"
    }
   ],
   "source": [
    "train_df.head()"
   ]
  },
  {
   "cell_type": "markdown",
   "id": "aeef10ee-eedc-4d1b-9594-f60958db9b01",
   "metadata": {},
   "source": [
    "## Preprocess the data"
   ]
  },
  {
   "cell_type": "code",
   "execution_count": 55,
   "id": "73a2e360-dd7e-4cc8-8185-e7e4bd25e929",
   "metadata": {},
   "outputs": [
    {
     "data": {
      "text/html": [
       "<div>\n",
       "<style scoped>\n",
       "    .dataframe tbody tr th:only-of-type {\n",
       "        vertical-align: middle;\n",
       "    }\n",
       "\n",
       "    .dataframe tbody tr th {\n",
       "        vertical-align: top;\n",
       "    }\n",
       "\n",
       "    .dataframe thead th {\n",
       "        text-align: right;\n",
       "    }\n",
       "</style>\n",
       "<table border=\"1\" class=\"dataframe\">\n",
       "  <thead>\n",
       "    <tr style=\"text-align: right;\">\n",
       "      <th></th>\n",
       "      <th>y</th>\n",
       "      <th>qid</th>\n",
       "      <th>feat_1</th>\n",
       "      <th>feat_2</th>\n",
       "      <th>feat_3</th>\n",
       "      <th>feat_4</th>\n",
       "      <th>feat_5</th>\n",
       "      <th>feat_6</th>\n",
       "      <th>feat_7</th>\n",
       "      <th>feat_8</th>\n",
       "      <th>...</th>\n",
       "      <th>feat_127</th>\n",
       "      <th>feat_128</th>\n",
       "      <th>feat_129</th>\n",
       "      <th>feat_130</th>\n",
       "      <th>feat_131</th>\n",
       "      <th>feat_132</th>\n",
       "      <th>feat_133</th>\n",
       "      <th>feat_134</th>\n",
       "      <th>feat_135</th>\n",
       "      <th>feat_136</th>\n",
       "    </tr>\n",
       "  </thead>\n",
       "  <tbody>\n",
       "    <tr>\n",
       "      <th>0</th>\n",
       "      <td>2</td>\n",
       "      <td>1</td>\n",
       "      <td>3</td>\n",
       "      <td>3</td>\n",
       "      <td>0</td>\n",
       "      <td>0</td>\n",
       "      <td>3</td>\n",
       "      <td>1</td>\n",
       "      <td>1</td>\n",
       "      <td>0</td>\n",
       "      <td>...</td>\n",
       "      <td>62</td>\n",
       "      <td>11089534</td>\n",
       "      <td>2</td>\n",
       "      <td>116</td>\n",
       "      <td>64034</td>\n",
       "      <td>13</td>\n",
       "      <td>3</td>\n",
       "      <td>0</td>\n",
       "      <td>0</td>\n",
       "      <td>0</td>\n",
       "    </tr>\n",
       "    <tr>\n",
       "      <th>1</th>\n",
       "      <td>2</td>\n",
       "      <td>1</td>\n",
       "      <td>3</td>\n",
       "      <td>0</td>\n",
       "      <td>3</td>\n",
       "      <td>0</td>\n",
       "      <td>3</td>\n",
       "      <td>1</td>\n",
       "      <td>0</td>\n",
       "      <td>1</td>\n",
       "      <td>...</td>\n",
       "      <td>54</td>\n",
       "      <td>11089534</td>\n",
       "      <td>2</td>\n",
       "      <td>124</td>\n",
       "      <td>64034</td>\n",
       "      <td>1</td>\n",
       "      <td>2</td>\n",
       "      <td>0</td>\n",
       "      <td>0</td>\n",
       "      <td>0</td>\n",
       "    </tr>\n",
       "    <tr>\n",
       "      <th>2</th>\n",
       "      <td>0</td>\n",
       "      <td>1</td>\n",
       "      <td>3</td>\n",
       "      <td>0</td>\n",
       "      <td>2</td>\n",
       "      <td>0</td>\n",
       "      <td>3</td>\n",
       "      <td>1</td>\n",
       "      <td>0</td>\n",
       "      <td>0.666667</td>\n",
       "      <td>...</td>\n",
       "      <td>45</td>\n",
       "      <td>3</td>\n",
       "      <td>1</td>\n",
       "      <td>124</td>\n",
       "      <td>3344</td>\n",
       "      <td>14</td>\n",
       "      <td>67</td>\n",
       "      <td>0</td>\n",
       "      <td>0</td>\n",
       "      <td>0</td>\n",
       "    </tr>\n",
       "    <tr>\n",
       "      <th>3</th>\n",
       "      <td>2</td>\n",
       "      <td>1</td>\n",
       "      <td>3</td>\n",
       "      <td>0</td>\n",
       "      <td>3</td>\n",
       "      <td>0</td>\n",
       "      <td>3</td>\n",
       "      <td>1</td>\n",
       "      <td>0</td>\n",
       "      <td>1</td>\n",
       "      <td>...</td>\n",
       "      <td>56</td>\n",
       "      <td>11089534</td>\n",
       "      <td>13</td>\n",
       "      <td>123</td>\n",
       "      <td>63933</td>\n",
       "      <td>1</td>\n",
       "      <td>3</td>\n",
       "      <td>0</td>\n",
       "      <td>0</td>\n",
       "      <td>0</td>\n",
       "    </tr>\n",
       "    <tr>\n",
       "      <th>4</th>\n",
       "      <td>1</td>\n",
       "      <td>1</td>\n",
       "      <td>3</td>\n",
       "      <td>0</td>\n",
       "      <td>3</td>\n",
       "      <td>0</td>\n",
       "      <td>3</td>\n",
       "      <td>1</td>\n",
       "      <td>0</td>\n",
       "      <td>1</td>\n",
       "      <td>...</td>\n",
       "      <td>64</td>\n",
       "      <td>5</td>\n",
       "      <td>7</td>\n",
       "      <td>256</td>\n",
       "      <td>49697</td>\n",
       "      <td>1</td>\n",
       "      <td>13</td>\n",
       "      <td>0</td>\n",
       "      <td>0</td>\n",
       "      <td>0</td>\n",
       "    </tr>\n",
       "  </tbody>\n",
       "</table>\n",
       "<p>5 rows × 138 columns</p>\n",
       "</div>"
      ],
      "text/plain": [
       "   y qid feat_1 feat_2 feat_3 feat_4 feat_5 feat_6 feat_7    feat_8  ...  \\\n",
       "0  2   1      3      3      0      0      3      1      1         0  ...   \n",
       "1  2   1      3      0      3      0      3      1      0         1  ...   \n",
       "2  0   1      3      0      2      0      3      1      0  0.666667  ...   \n",
       "3  2   1      3      0      3      0      3      1      0         1  ...   \n",
       "4  1   1      3      0      3      0      3      1      0         1  ...   \n",
       "\n",
       "  feat_127  feat_128 feat_129 feat_130 feat_131 feat_132 feat_133 feat_134  \\\n",
       "0       62  11089534        2      116    64034       13        3        0   \n",
       "1       54  11089534        2      124    64034        1        2        0   \n",
       "2       45         3        1      124     3344       14       67        0   \n",
       "3       56  11089534       13      123    63933        1        3        0   \n",
       "4       64         5        7      256    49697        1       13        0   \n",
       "\n",
       "  feat_135 feat_136  \n",
       "0        0        0  \n",
       "1        0        0  \n",
       "2        0        0  \n",
       "3        0        0  \n",
       "4        0        0  \n",
       "\n",
       "[5 rows x 138 columns]"
      ]
     },
     "execution_count": 55,
     "metadata": {},
     "output_type": "execute_result"
    }
   ],
   "source": [
    "train_df = preprocess_data(train_df)\n",
    "valid_df = preprocess_data(valid_df)\n",
    "test_df = preprocess_data(test_df)\n",
    "train_df.head()"
   ]
  },
  {
   "cell_type": "markdown",
   "id": "9598a27f-f8ea-4b49-b2e5-2f42d9369f98",
   "metadata": {},
   "source": [
    "## Simple EDA"
   ]
  },
  {
   "cell_type": "markdown",
   "id": "d25ab08f-6f8e-4357-886a-ed5680bdeef9",
   "metadata": {},
   "source": [
    "##### 723k documents in train sample"
   ]
  },
  {
   "cell_type": "code",
   "execution_count": 8,
   "id": "aeca0636-5729-45b1-bda6-0e01e8f85e81",
   "metadata": {},
   "outputs": [
    {
     "name": "stdout",
     "output_type": "stream",
     "text": [
      "<class 'pandas.core.frame.DataFrame'>\n",
      "RangeIndex: 723412 entries, 0 to 723411\n",
      "Columns: 138 entries, y to feat_136\n",
      "dtypes: int64(1), object(137)\n",
      "memory usage: 761.6+ MB\n",
      "None\n"
     ]
    }
   ],
   "source": [
    "print(train_df.info())"
   ]
  },
  {
   "cell_type": "markdown",
   "id": "f8e448cd-6a6a-4822-8ccb-b183d904d1da",
   "metadata": {},
   "source": [
    "##### 241k doxuments in test sample"
   ]
  },
  {
   "cell_type": "code",
   "execution_count": 9,
   "id": "49d93e9e-ff51-484b-91e0-38e4368dc220",
   "metadata": {},
   "outputs": [
    {
     "name": "stdout",
     "output_type": "stream",
     "text": [
      "<class 'pandas.core.frame.DataFrame'>\n",
      "RangeIndex: 241521 entries, 0 to 241520\n",
      "Columns: 138 entries, y to feat_136\n",
      "dtypes: int64(1), object(137)\n",
      "memory usage: 254.3+ MB\n",
      "None\n"
     ]
    }
   ],
   "source": [
    "print(test_df.info())"
   ]
  },
  {
   "cell_type": "code",
   "execution_count": 10,
   "id": "61088ffd-dd7c-466b-83ce-c53250d6965d",
   "metadata": {},
   "outputs": [
    {
     "name": "stdout",
     "output_type": "stream",
     "text": [
      "Got 6000 train and 2000 test queries\n"
     ]
    }
   ],
   "source": [
    "num_queries_train = train_df['qid'].nunique()\n",
    "num_queries_test = test_df['qid'].nunique()\n",
    "print(f\"Got {num_queries_train} train and {num_queries_test} test queries\")"
   ]
  },
  {
   "cell_type": "code",
   "execution_count": null,
   "id": "6e82b450-452e-46b7-84c8-195441d67f6e",
   "metadata": {},
   "outputs": [],
   "source": []
  },
  {
   "cell_type": "markdown",
   "id": "c242c12b-d1ce-49e4-9d31-1a5c936d2f6f",
   "metadata": {},
   "source": [
    "# Training (LinReg | XGBoost Ranker)"
   ]
  },
  {
   "cell_type": "code",
   "execution_count": 56,
   "id": "ede3c521-b415-41a8-bdf6-702964650a04",
   "metadata": {},
   "outputs": [],
   "source": [
    "X_train, y_train = get_features_and_labels(train_df)\n",
    "X_test, y_test = get_features_and_labels(test_df)"
   ]
  },
  {
   "cell_type": "code",
   "execution_count": 65,
   "id": "a2e1f9a1-33cd-422e-9433-f897ed6cd688",
   "metadata": {},
   "outputs": [],
   "source": [
    "def train_model(df):\n",
    "    query_col = \"qid\"\n",
    "\n",
    "    queries = df[query_col].unique()\n",
    "    train_queries, test_queries = train_test_split(queries, test_size=0.2, random_state=42)\n",
    "\n",
    "    train_df = df[df[query_col].isin(train_queries)]\n",
    "    test_df = df[df[query_col].isin(test_queries)]\n",
    "    train_df = train_df.astype(np.float32)\n",
    "    test_df = test_df.astype(np.float32)\n",
    "\n",
    "    x_train, y_train = get_features_and_labels(train_df)\n",
    "    x_test, y_test = get_features_and_labels(test_df)\n",
    "\n",
    "\n",
    "\n",
    "    linreg = LinearRegression().fit(x_train, y_train)\n",
    "    evaluate_model(linreg, x_test, y_test, \"Linear Regression Model (pointwise)\")\n",
    "    \n",
    "\n",
    "    train_df_sorted = train_df.sort_values(by=query_col)\n",
    "\n",
    "    sorted_indices = train_df_sorted.index\n",
    "\n",
    "    x_train_sorted = x_train.loc[sorted_indices].reset_index(drop=True)\n",
    "    y_train_sorted = y_train.loc[sorted_indices].reset_index(drop=True)\n",
    "\n",
    "    xgbranker = xgb.XGBRanker(\n",
    "        tree_method=\"hist\",\n",
    "        objective=\"rank:pairwise\"\n",
    "    )\n",
    "\n",
    "    xgbranker2 = xgb.XGBRanker(\n",
    "        tree_method=\"hist\",\n",
    "        objective=\"rank:ndcg\"\n",
    "    )\n",
    "\n",
    "    if query_col in x_train_sorted.columns:\n",
    "        x_train_sorted = x_train_sorted.drop(columns=[query_col])\n",
    "\n",
    "    xgbranker.fit(x_train_sorted, y_train_sorted, qid=train_df_sorted[query_col].values)\n",
    "\n",
    "    evaluate_model(xgbranker, x_test, y_test, \"XGBoost Pairwise Ranker Model (logit)\")\n",
    "\n",
    "    xgbranker2.fit(x_train_sorted, y_train_sorted, qid=train_df_sorted[query_col].values)\n",
    "\n",
    "    evaluate_model(xgbranker2, x_test, y_test, \"XGBoost Pairwise Ranker Model (lambdamart)\")\n",
    "\n",
    "    return xgbranker, xgbranker2\n"
   ]
  },
  {
   "cell_type": "code",
   "execution_count": 58,
   "id": "601cb03d-4b33-423a-b6b5-e3090fbdecf8",
   "metadata": {},
   "outputs": [
    {
     "name": "stdout",
     "output_type": "stream",
     "text": [
      "--------------------------------------------------\n",
      "Linear Regression Model (pointwise) NDCG Score: 0.9195\n",
      "Linear Regression Model (pointwise) NDCG@5 Score: 0.3503\n",
      "Linear Regression Model (pointwise) NDCG@10 Score: 0.2432\n",
      "Linear Regression Model (pointwise) NDCG@20 Score: 0.2372\n",
      "--------------------------------------------------\n",
      "XGBoost Pairwise Ranker Model (lambdamart) NDCG Score: 0.9338\n",
      "XGBoost Pairwise Ranker Model (lambdamart) NDCG@5 Score: 1.0000\n",
      "XGBoost Pairwise Ranker Model (lambdamart) NDCG@10 Score: 0.9523\n",
      "XGBoost Pairwise Ranker Model (lambdamart) NDCG@20 Score: 0.8675\n",
      "--------------------------------------------------\n",
      "XGBoost Pairwise Ranker Model (ndcg) NDCG Score: 0.9341\n",
      "XGBoost Pairwise Ranker Model (ndcg) NDCG@5 Score: 0.9672\n",
      "XGBoost Pairwise Ranker Model (ndcg) NDCG@10 Score: 0.9614\n",
      "XGBoost Pairwise Ranker Model (ndcg) NDCG@20 Score: 0.9377\n"
     ]
    }
   ],
   "source": [
    "xgbranker, xgbranker2 = train_model(train_df)"
   ]
  },
  {
   "cell_type": "code",
   "execution_count": null,
   "id": "375423f1-f0bd-4b92-829c-fba6d312056f",
   "metadata": {},
   "outputs": [],
   "source": []
  },
  {
   "cell_type": "code",
   "execution_count": null,
   "id": "bde898fa-8749-4cd6-97b1-5e5f092aa166",
   "metadata": {},
   "outputs": [],
   "source": []
  },
  {
   "cell_type": "code",
   "execution_count": null,
   "id": "0d6c34ef-ff79-42be-8d98-ae30e7fa243c",
   "metadata": {},
   "outputs": [],
   "source": []
  },
  {
   "cell_type": "markdown",
   "id": "9f15aeb1-d2fb-4738-90f3-c5113e8d7a85",
   "metadata": {},
   "source": [
    "# Catboost"
   ]
  },
  {
   "cell_type": "code",
   "execution_count": 15,
   "id": "60c4f5ac-27b2-4a11-8469-60337ff1252d",
   "metadata": {},
   "outputs": [],
   "source": [
    "from catboost import CatBoost, Pool"
   ]
  },
  {
   "cell_type": "code",
   "execution_count": 23,
   "id": "69026b20-002e-4374-86ae-488a3befce4d",
   "metadata": {},
   "outputs": [],
   "source": [
    "def to_catboost_dataset(df):\n",
    "    y = df['y'].to_numpy()                       \n",
    "    q = df['qid'].to_numpy().astype('uint32')      \n",
    "    X = df.drop(columns=['y', 'qid']).to_numpy() \n",
    "    return (X, y, q)"
   ]
  },
  {
   "cell_type": "code",
   "execution_count": 17,
   "id": "f7f6a70e-22d6-4a8a-a2fc-a1e812b7df49",
   "metadata": {},
   "outputs": [],
   "source": [
    "X_train, y_train, q_train = to_catboost_dataset(train_df)\n",
    "X_valid, y_valid, q_valid = to_catboost_dataset(valid_df)\n",
    "X_test, y_test, q_test = to_catboost_dataset(test_df)\n",
    "        \n",
    "pool_train = Pool(data=X_train, label=y_train, group_id=q_train)\n",
    "pool_valid = Pool(data=X_valid, label=y_valid, group_id = q_valid)\n",
    "pool_test = Pool(data=X_test, label=y_test, group_id=q_test)"
   ]
  },
  {
   "cell_type": "markdown",
   "id": "f4aa1f2d-d9f7-4828-a447-a5ff93aa969f",
   "metadata": {},
   "source": [
    "### Pairwise metrics: PairLogit"
   ]
  },
  {
   "cell_type": "code",
   "execution_count": 24,
   "id": "7a2d57ef-b39f-44c8-986b-6b655f6f1fb7",
   "metadata": {},
   "outputs": [],
   "source": [
    "params = {\n",
    "    'n_estimators': 1000,            \n",
    "    'eval_metric': 'NDCG',     \n",
    "    'random_seed': 123,\n",
    "    'verbose': 100,\n",
    "    'eta': 0.1,\n",
    "    'max_bin': 64,\n",
    "    'max_depth': 4,\n",
    "    'loss_function': 'PairLogit'\n",
    "}"
   ]
  },
  {
   "cell_type": "code",
   "execution_count": 20,
   "id": "03c204ab-e697-4233-84ac-383dec59935c",
   "metadata": {},
   "outputs": [
    {
     "name": "stdout",
     "output_type": "stream",
     "text": [
      "0:\ttest: 0.6687723\tbest: 0.6687723 (0)\ttotal: 10.4s\tremaining: 2h 53m\n",
      "100:\ttest: 0.7733300\tbest: 0.7733300 (100)\ttotal: 18m 43s\tremaining: 2h 46m 37s\n",
      "200:\ttest: 0.7826945\tbest: 0.7826945 (200)\ttotal: 38m 4s\tremaining: 2h 31m 19s\n",
      "300:\ttest: 0.7872120\tbest: 0.7872378 (297)\ttotal: 56m 36s\tremaining: 2h 11m 27s\n",
      "400:\ttest: 0.7889815\tbest: 0.7890837 (391)\ttotal: 1h 15m 1s\tremaining: 1h 52m 3s\n",
      "500:\ttest: 0.7895205\tbest: 0.7895537 (497)\ttotal: 1h 36m 36s\tremaining: 1h 36m 24s\n",
      "600:\ttest: 0.7904014\tbest: 0.7904680 (597)\ttotal: 2h 3m 13s\tremaining: 1h 21m 56s\n",
      "700:\ttest: 0.7915918\tbest: 0.7916955 (697)\ttotal: 2h 24m 43s\tremaining: 1h 1m 48s\n",
      "800:\ttest: 0.7918725\tbest: 0.7920434 (750)\ttotal: 2h 46m 1s\tremaining: 41m 17s\n",
      "900:\ttest: 0.7916781\tbest: 0.7920434 (750)\ttotal: 3h 7m 3s\tremaining: 20m 34s\n",
      "999:\ttest: 0.7926596\tbest: 0.7926596 (999)\ttotal: 3h 28m 4s\tremaining: 0us\n",
      "\n",
      "bestTest = 0.7926595694\n",
      "bestIteration = 999\n",
      "\n"
     ]
    },
    {
     "data": {
      "text/plain": [
       "<catboost.core.CatBoost at 0x18552d270e0>"
      ]
     },
     "execution_count": 20,
     "metadata": {},
     "output_type": "execute_result"
    }
   ],
   "source": [
    "cb_pairlogit = CatBoost(params)\n",
    "cb_pairlogit.fit(pool_train, eval_set=pool_valid, use_best_model=True)"
   ]
  },
  {
   "cell_type": "markdown",
   "id": "e84b95d2-e0da-496a-a716-a83ba749aba2",
   "metadata": {},
   "source": [
    "### Groupwise metrics: YetiRank"
   ]
  },
  {
   "cell_type": "code",
   "execution_count": 25,
   "id": "a471443d-31f0-4a82-adff-b648825fe97e",
   "metadata": {},
   "outputs": [],
   "source": [
    "params = {\n",
    "    'n_estimators': 1000,            \n",
    "    'eval_metric': 'NDCG',      \n",
    "    'random_seed': 123,\n",
    "    'verbose': 100,\n",
    "    'eta': 0.1,\n",
    "    'max_bin': 64,\n",
    "    'max_depth': 4,\n",
    "    'loss_function': 'YetiRank'\n",
    "}"
   ]
  },
  {
   "cell_type": "code",
   "execution_count": 22,
   "id": "b318e31c-a2bf-470b-816a-9a4073b821cb",
   "metadata": {},
   "outputs": [
    {
     "name": "stdout",
     "output_type": "stream",
     "text": [
      "0:\ttest: 0.6488399\tbest: 0.6488399 (0)\ttotal: 1.24s\tremaining: 20m 39s\n",
      "100:\ttest: 0.7862985\tbest: 0.7862985 (100)\ttotal: 1m 22s\tremaining: 12m 12s\n",
      "200:\ttest: 0.7905463\tbest: 0.7905463 (200)\ttotal: 2m 46s\tremaining: 11m 1s\n",
      "300:\ttest: 0.7925186\tbest: 0.7929063 (290)\ttotal: 4m 11s\tremaining: 9m 45s\n",
      "400:\ttest: 0.7936103\tbest: 0.7939413 (399)\ttotal: 5m 30s\tremaining: 8m 13s\n",
      "500:\ttest: 0.7944577\tbest: 0.7945601 (493)\ttotal: 6m 46s\tremaining: 6m 45s\n",
      "600:\ttest: 0.7951157\tbest: 0.7954438 (594)\ttotal: 8m 5s\tremaining: 5m 22s\n",
      "700:\ttest: 0.7958456\tbest: 0.7958656 (666)\ttotal: 9m 25s\tremaining: 4m 1s\n",
      "800:\ttest: 0.7960214\tbest: 0.7962475 (785)\ttotal: 10m 43s\tremaining: 2m 39s\n",
      "900:\ttest: 0.7961115\tbest: 0.7963754 (896)\ttotal: 12m 1s\tremaining: 1m 19s\n",
      "999:\ttest: 0.7967209\tbest: 0.7967486 (982)\ttotal: 13m 20s\tremaining: 0us\n",
      "\n",
      "bestTest = 0.7967485783\n",
      "bestIteration = 982\n",
      "\n",
      "Shrink model to first 983 iterations.\n"
     ]
    },
    {
     "data": {
      "text/plain": [
       "<catboost.core.CatBoost at 0x18538ab9fd0>"
      ]
     },
     "execution_count": 22,
     "metadata": {},
     "output_type": "execute_result"
    }
   ],
   "source": [
    "cb_yetirank = CatBoost(params)\n",
    "cb_yetirank.fit(pool_train, eval_set=pool_valid, use_best_model=True)"
   ]
  },
  {
   "cell_type": "markdown",
   "id": "89b6f037-7b24-4e2d-83a5-d9482b9c5a68",
   "metadata": {},
   "source": [
    "### Groupwise metrics: LambdaMART"
   ]
  },
  {
   "cell_type": "code",
   "execution_count": 30,
   "id": "b0cb02f5-6a8f-4571-bb91-bf93bbe760bf",
   "metadata": {},
   "outputs": [],
   "source": [
    "params = {\n",
    "    'n_estimators': 1000,            \n",
    "    'eval_metric': 'NDCG',      \n",
    "    'random_seed': 123,\n",
    "    'verbose': 100,\n",
    "    'eta': 0.1,\n",
    "    'max_bin': 64,\n",
    "    'max_depth': 4,\n",
    "    'loss_function': 'LambdaMart'\n",
    "}"
   ]
  },
  {
   "cell_type": "code",
   "execution_count": 31,
   "id": "78e976f7-6253-42f3-b0e8-68a11c64dda4",
   "metadata": {},
   "outputs": [
    {
     "name": "stdout",
     "output_type": "stream",
     "text": [
      "0:\ttest: 0.6577562\tbest: 0.6577562 (0)\ttotal: 492ms\tremaining: 8m 11s\n",
      "100:\ttest: 0.7846900\tbest: 0.7846900 (100)\ttotal: 55.6s\tremaining: 8m 14s\n",
      "200:\ttest: 0.7892624\tbest: 0.7894800 (197)\ttotal: 1m 50s\tremaining: 7m 17s\n",
      "300:\ttest: 0.7910991\tbest: 0.7911250 (288)\ttotal: 2m 45s\tremaining: 6m 23s\n",
      "400:\ttest: 0.7924486\tbest: 0.7925266 (398)\ttotal: 3m 40s\tremaining: 5m 28s\n",
      "500:\ttest: 0.7932052\tbest: 0.7933017 (495)\ttotal: 4m 35s\tremaining: 4m 34s\n",
      "600:\ttest: 0.7938951\tbest: 0.7940184 (593)\ttotal: 5m 29s\tremaining: 3m 39s\n",
      "700:\ttest: 0.7947973\tbest: 0.7948647 (697)\ttotal: 6m 24s\tremaining: 2m 44s\n",
      "800:\ttest: 0.7950165\tbest: 0.7950167 (799)\ttotal: 7m 20s\tremaining: 1m 49s\n",
      "900:\ttest: 0.7952311\tbest: 0.7953538 (889)\ttotal: 8m 15s\tremaining: 54.5s\n",
      "999:\ttest: 0.7956838\tbest: 0.7958061 (975)\ttotal: 9m 12s\tremaining: 0us\n",
      "\n",
      "bestTest = 0.795806107\n",
      "bestIteration = 975\n",
      "\n",
      "Shrink model to first 976 iterations.\n"
     ]
    },
    {
     "data": {
      "text/plain": [
       "<catboost.core.CatBoost at 0x186bd59a2a0>"
      ]
     },
     "execution_count": 31,
     "metadata": {},
     "output_type": "execute_result"
    }
   ],
   "source": [
    "cb_lm = CatBoost(params)\n",
    "cb_lm.fit(pool_train, eval_set=pool_valid, use_best_model=True)"
   ]
  },
  {
   "cell_type": "markdown",
   "id": "649d7acb-729d-4800-b9a3-01d9ed68fe5e",
   "metadata": {},
   "source": [
    "### Groupwise methods: QueryRMSE"
   ]
  },
  {
   "cell_type": "code",
   "execution_count": 46,
   "id": "36dd85cf-f9ff-4231-a3a0-26a98ce50139",
   "metadata": {},
   "outputs": [],
   "source": [
    "params = {\n",
    "    'n_estimators': 5000,            \n",
    "    'eval_metric': 'NDCG',      \n",
    "    'random_seed': 123,\n",
    "    'verbose': 100,\n",
    "    'eta': 0.1,\n",
    "    'max_bin': 64,\n",
    "    'max_depth': 4,\n",
    "    'loss_function': 'QueryRMSE'\n",
    "}"
   ]
  },
  {
   "cell_type": "code",
   "execution_count": 47,
   "id": "70f8fea5-f86f-4fc5-a06b-7fe3dd15148f",
   "metadata": {},
   "outputs": [
    {
     "name": "stdout",
     "output_type": "stream",
     "text": [
      "0:\ttest: 0.6453704\tbest: 0.6453704 (0)\ttotal: 125ms\tremaining: 10m 22s\n",
      "100:\ttest: 0.7836810\tbest: 0.7836810 (100)\ttotal: 12s\tremaining: 9m 43s\n",
      "200:\ttest: 0.7888356\tbest: 0.7888356 (200)\ttotal: 23.7s\tremaining: 9m 26s\n",
      "300:\ttest: 0.7901007\tbest: 0.7901194 (299)\ttotal: 35.5s\tremaining: 9m 14s\n",
      "400:\ttest: 0.7919699\tbest: 0.7919699 (400)\ttotal: 47.2s\tremaining: 9m 1s\n",
      "500:\ttest: 0.7925735\tbest: 0.7927511 (470)\ttotal: 59.7s\tremaining: 8m 56s\n",
      "600:\ttest: 0.7930723\tbest: 0.7932972 (557)\ttotal: 1m 11s\tremaining: 8m 46s\n",
      "700:\ttest: 0.7934804\tbest: 0.7936851 (683)\ttotal: 1m 24s\tremaining: 8m 38s\n",
      "800:\ttest: 0.7938380\tbest: 0.7943202 (761)\ttotal: 1m 36s\tremaining: 8m 25s\n",
      "900:\ttest: 0.7941259\tbest: 0.7943202 (761)\ttotal: 1m 49s\tremaining: 8m 16s\n",
      "1000:\ttest: 0.7945486\tbest: 0.7948044 (953)\ttotal: 2m 1s\tremaining: 8m 6s\n",
      "1100:\ttest: 0.7951710\tbest: 0.7951948 (1098)\ttotal: 2m 14s\tremaining: 7m 54s\n",
      "1200:\ttest: 0.7953509\tbest: 0.7954017 (1194)\ttotal: 2m 26s\tremaining: 7m 42s\n",
      "1300:\ttest: 0.7956386\tbest: 0.7956772 (1294)\ttotal: 2m 38s\tremaining: 7m 30s\n",
      "1400:\ttest: 0.7958499\tbest: 0.7959327 (1389)\ttotal: 2m 50s\tremaining: 7m 18s\n",
      "1500:\ttest: 0.7960218\tbest: 0.7960286 (1499)\ttotal: 3m 2s\tremaining: 7m 6s\n",
      "1600:\ttest: 0.7961741\tbest: 0.7962181 (1584)\ttotal: 3m 15s\tremaining: 6m 54s\n",
      "1700:\ttest: 0.7960969\tbest: 0.7962181 (1584)\ttotal: 3m 27s\tremaining: 6m 42s\n",
      "1800:\ttest: 0.7962004\tbest: 0.7962181 (1584)\ttotal: 3m 39s\tremaining: 6m 30s\n",
      "1900:\ttest: 0.7963370\tbest: 0.7963958 (1892)\ttotal: 3m 51s\tremaining: 6m 18s\n",
      "2000:\ttest: 0.7960259\tbest: 0.7963958 (1892)\ttotal: 4m 3s\tremaining: 6m 5s\n",
      "2100:\ttest: 0.7959663\tbest: 0.7963958 (1892)\ttotal: 4m 16s\tremaining: 5m 53s\n",
      "2200:\ttest: 0.7959565\tbest: 0.7963958 (1892)\ttotal: 4m 28s\tremaining: 5m 41s\n",
      "2300:\ttest: 0.7959872\tbest: 0.7963958 (1892)\ttotal: 4m 40s\tremaining: 5m 29s\n",
      "2400:\ttest: 0.7958636\tbest: 0.7963958 (1892)\ttotal: 4m 53s\tremaining: 5m 17s\n",
      "2500:\ttest: 0.7963387\tbest: 0.7963958 (1892)\ttotal: 5m 5s\tremaining: 5m 5s\n",
      "2600:\ttest: 0.7964093\tbest: 0.7965087 (2577)\ttotal: 5m 18s\tremaining: 4m 53s\n",
      "2700:\ttest: 0.7967502\tbest: 0.7968397 (2682)\ttotal: 5m 30s\tremaining: 4m 41s\n",
      "2800:\ttest: 0.7966521\tbest: 0.7968732 (2723)\ttotal: 5m 42s\tremaining: 4m 28s\n",
      "2900:\ttest: 0.7967458\tbest: 0.7969942 (2837)\ttotal: 5m 55s\tremaining: 4m 17s\n",
      "3000:\ttest: 0.7966141\tbest: 0.7973230 (2936)\ttotal: 6m 7s\tremaining: 4m 4s\n",
      "3100:\ttest: 0.7958300\tbest: 0.7973230 (2936)\ttotal: 6m 20s\tremaining: 3m 53s\n",
      "3200:\ttest: 0.7958429\tbest: 0.7973230 (2936)\ttotal: 6m 34s\tremaining: 3m 41s\n",
      "3300:\ttest: 0.7960402\tbest: 0.7973230 (2936)\ttotal: 6m 47s\tremaining: 3m 29s\n",
      "3400:\ttest: 0.7960177\tbest: 0.7973230 (2936)\ttotal: 7m\tremaining: 3m 17s\n",
      "3500:\ttest: 0.7961413\tbest: 0.7973230 (2936)\ttotal: 7m 13s\tremaining: 3m 5s\n",
      "3600:\ttest: 0.7963036\tbest: 0.7973230 (2936)\ttotal: 7m 26s\tremaining: 2m 53s\n",
      "3700:\ttest: 0.7965869\tbest: 0.7973230 (2936)\ttotal: 7m 39s\tremaining: 2m 41s\n",
      "3800:\ttest: 0.7965301\tbest: 0.7973230 (2936)\ttotal: 7m 51s\tremaining: 2m 28s\n",
      "3900:\ttest: 0.7960359\tbest: 0.7973230 (2936)\ttotal: 8m 4s\tremaining: 2m 16s\n",
      "4000:\ttest: 0.7957697\tbest: 0.7973230 (2936)\ttotal: 8m 17s\tremaining: 2m 4s\n",
      "4100:\ttest: 0.7956758\tbest: 0.7973230 (2936)\ttotal: 8m 30s\tremaining: 1m 51s\n",
      "4200:\ttest: 0.7955548\tbest: 0.7973230 (2936)\ttotal: 8m 43s\tremaining: 1m 39s\n",
      "4300:\ttest: 0.7956429\tbest: 0.7973230 (2936)\ttotal: 8m 56s\tremaining: 1m 27s\n",
      "4400:\ttest: 0.7956265\tbest: 0.7973230 (2936)\ttotal: 9m 9s\tremaining: 1m 14s\n",
      "4500:\ttest: 0.7957165\tbest: 0.7973230 (2936)\ttotal: 9m 21s\tremaining: 1m 2s\n",
      "4600:\ttest: 0.7956934\tbest: 0.7973230 (2936)\ttotal: 9m 35s\tremaining: 49.9s\n",
      "4700:\ttest: 0.7956151\tbest: 0.7973230 (2936)\ttotal: 9m 48s\tremaining: 37.4s\n",
      "4800:\ttest: 0.7954965\tbest: 0.7973230 (2936)\ttotal: 10m 1s\tremaining: 24.9s\n",
      "4900:\ttest: 0.7956583\tbest: 0.7973230 (2936)\ttotal: 10m 14s\tremaining: 12.4s\n",
      "4999:\ttest: 0.7954868\tbest: 0.7973230 (2936)\ttotal: 10m 26s\tremaining: 0us\n",
      "\n",
      "bestTest = 0.7973230198\n",
      "bestIteration = 2936\n",
      "\n",
      "Shrink model to first 2937 iterations.\n"
     ]
    },
    {
     "data": {
      "text/plain": [
       "<catboost.core.CatBoost at 0x186bd5acc20>"
      ]
     },
     "execution_count": 47,
     "metadata": {},
     "output_type": "execute_result"
    }
   ],
   "source": [
    "cb_qr = CatBoost(params)\n",
    "cb_qr.fit(pool_train, eval_set=pool_valid, use_best_model=True)"
   ]
  },
  {
   "cell_type": "code",
   "execution_count": null,
   "id": "174a80fb-d21d-43b0-a37a-042bb2ca5dbd",
   "metadata": {},
   "outputs": [],
   "source": []
  },
  {
   "cell_type": "code",
   "execution_count": null,
   "id": "366fc314-186b-4172-9c45-24ef8d41209d",
   "metadata": {},
   "outputs": [],
   "source": []
  },
  {
   "cell_type": "markdown",
   "id": "2b3a9221-4532-444e-a9ad-06d4b57d90a8",
   "metadata": {},
   "source": [
    "# Inference on Test sample"
   ]
  },
  {
   "cell_type": "code",
   "execution_count": 67,
   "id": "fc498532-b8de-477e-a017-34bf8b919b1c",
   "metadata": {},
   "outputs": [],
   "source": [
    "def predict(model, df, name):\n",
    "    \n",
    "    if df.isnull().any().any():\n",
    "        raise ValueError(\"Input DataFrame contains NaN values\")\n",
    "\n",
    "    df = df.astype(float)\n",
    "    \n",
    "    x, y = get_features_and_labels(df)\n",
    "\n",
    "    predictions = model.predict(x)\n",
    "\n",
    "    df[\"predicted_rank\"] = predictions\n",
    "    df = df.sort_values(by=\"predicted_rank\", ascending=False)\n",
    "\n",
    "    evaluate_model(model, x, y, f\"{name} test dataset Inference\")\n",
    "\n",
    "    return df"
   ]
  },
  {
   "cell_type": "code",
   "execution_count": 69,
   "id": "bf82ded6-974a-47a8-a6e3-b8a1ac05a7d0",
   "metadata": {},
   "outputs": [
    {
     "name": "stdout",
     "output_type": "stream",
     "text": [
      "--------------------------------------------------\n",
      "XGBoost pairwise logit: test dataset Inference NDCG Score: 0.9364\n",
      "XGBoost pairwise logit: test dataset Inference NDCG@5 Score: 0.9344\n",
      "XGBoost pairwise logit: test dataset Inference NDCG@10 Score: 0.8835\n",
      "XGBoost pairwise logit: test dataset Inference NDCG@20 Score: 0.8554\n",
      "==================================================\n",
      "--------------------------------------------------\n",
      "XGBoost lambdamart (ncdg optimizing): test dataset Inference NDCG Score: 0.9365\n",
      "XGBoost lambdamart (ncdg optimizing): test dataset Inference NDCG@5 Score: 1.0000\n",
      "XGBoost lambdamart (ncdg optimizing): test dataset Inference NDCG@10 Score: 0.9487\n",
      "XGBoost lambdamart (ncdg optimizing): test dataset Inference NDCG@20 Score: 0.9049\n",
      "==================================================\n",
      "--------------------------------------------------\n",
      "Catboost pairwise logit: test dataset Inference NDCG Score: 0.9030\n",
      "Catboost pairwise logit: test dataset Inference NDCG@5 Score: 0.4628\n",
      "Catboost pairwise logit: test dataset Inference NDCG@10 Score: 0.4379\n",
      "Catboost pairwise logit: test dataset Inference NDCG@20 Score: 0.3812\n",
      "==================================================\n",
      "--------------------------------------------------\n",
      "Catboost yetirank: test dataset Inference NDCG Score: 0.8885\n",
      "Catboost yetirank: test dataset Inference NDCG@5 Score: 0.4842\n",
      "Catboost yetirank: test dataset Inference NDCG@10 Score: 0.3491\n",
      "Catboost yetirank: test dataset Inference NDCG@20 Score: 0.2905\n",
      "==================================================\n",
      "--------------------------------------------------\n",
      "Catboost lambdamart: test dataset Inference NDCG Score: 0.8958\n",
      "Catboost lambdamart: test dataset Inference NDCG@5 Score: 0.0848\n",
      "Catboost lambdamart: test dataset Inference NDCG@10 Score: 0.1231\n",
      "Catboost lambdamart: test dataset Inference NDCG@20 Score: 0.1667\n",
      "==================================================\n",
      "--------------------------------------------------\n",
      "Catboost queryRMSE loss: test dataset Inference NDCG Score: 0.9099\n",
      "Catboost queryRMSE loss: test dataset Inference NDCG@5 Score: 0.2448\n",
      "Catboost queryRMSE loss: test dataset Inference NDCG@10 Score: 0.2632\n",
      "Catboost queryRMSE loss: test dataset Inference NDCG@20 Score: 0.3011\n",
      "==================================================\n"
     ]
    }
   ],
   "source": [
    "predict(xgbranker, test_df, \"XGBoost pairwise logit:\")\n",
    "print(\"=\"*50)\n",
    "predict(xgbranker2, test_df, \"XGBoost lambdamart (ncdg optimizing):\")\n",
    "print(\"=\"*50)\n",
    "predict(cb_pairlogit, test_df, \"Catboost pairwise logit:\")\n",
    "print(\"=\"*50)\n",
    "predict(cb_yetirank, test_df, \"Catboost yetirank:\")\n",
    "print(\"=\"*50)\n",
    "predict(cb_lm, test_df, \"Catboost lambdamart:\")\n",
    "print(\"=\"*50)\n",
    "predict(cb_qr, test_df, \"Catboost queryRMSE loss:\")\n",
    "print(\"=\"*50)"
   ]
  },
  {
   "cell_type": "code",
   "execution_count": null,
   "id": "a30c699b-4933-418f-b05d-9de799dcf7fa",
   "metadata": {},
   "outputs": [],
   "source": []
  }
 ],
 "metadata": {
  "kernelspec": {
   "display_name": "Python 3 (ipykernel)",
   "language": "python",
   "name": "python3"
  },
  "language_info": {
   "codemirror_mode": {
    "name": "ipython",
    "version": 3
   },
   "file_extension": ".py",
   "mimetype": "text/x-python",
   "name": "python",
   "nbconvert_exporter": "python",
   "pygments_lexer": "ipython3",
   "version": "3.12.5"
  }
 },
 "nbformat": 4,
 "nbformat_minor": 5
}
